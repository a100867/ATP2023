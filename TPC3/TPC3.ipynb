{
 "cells": [
  {
   "cell_type": "code",
   "execution_count": 8,
   "metadata": {},
   "outputs": [
    {
     "name": "stdout",
     "output_type": "stream",
     "text": [
      "-=--=--=--=--=--=--=--=--=--=--=--=--=--=--=--=--=--=--=--=-\n",
      "Adivinha o número em que estou a pensar!\n",
      "-=--=--=--=--=--=--=--=--=--=--=--=--=--=--=--=--=--=--=--=-\n",
      "-=--=--=--=--=--=--=--=--=--=--=--=--=--=--=--=--=--=--=--=-\n",
      "O número é maior.\n",
      "-=--=--=--=--=--=--=--=--=--=--=--=--=--=--=--=--=--=--=--=-\n",
      "O número é maior.\n",
      "-=--=--=--=--=--=--=--=--=--=--=--=--=--=--=--=--=--=--=--=-\n",
      "O número é maior.\n",
      "-=--=--=--=--=--=--=--=--=--=--=--=--=--=--=--=--=--=--=--=-\n",
      "O número é maior.\n",
      "-=--=--=--=--=--=--=--=--=--=--=--=--=--=--=--=--=--=--=--=-\n",
      "O número é menor.\n"
     ]
    },
    {
     "ename": "ValueError",
     "evalue": "invalid literal for int() with base 10: '~60'",
     "output_type": "error",
     "traceback": [
      "\u001b[1;31m---------------------------------------------------------------------------\u001b[0m",
      "\u001b[1;31mValueError\u001b[0m                                Traceback (most recent call last)",
      "\u001b[1;32mc:\\Users\\gmflu\\Desktop\\aula tp de algoritmos\\TPC3.ipynb Cell 1\u001b[0m line \u001b[0;36m6\n\u001b[0;32m     <a href='vscode-notebook-cell:/c%3A/Users/gmflu/Desktop/aula%20tp%20de%20algoritmos/TPC3.ipynb#W0sZmlsZQ%3D%3D?line=59'>60</a>\u001b[0m menu \u001b[39m=\u001b[39m \u001b[39minput\u001b[39m(\u001b[39m\"\u001b[39m\u001b[39mEscolhe ---> (Jogador adivinha: \u001b[39m\u001b[39m'\u001b[39m\u001b[39m1\u001b[39m\u001b[39m'\u001b[39m\u001b[39m / Computador adivinha: \u001b[39m\u001b[39m'\u001b[39m\u001b[39m2\u001b[39m\u001b[39m'\u001b[39m\u001b[39m): \u001b[39m\u001b[39m\"\u001b[39m)\n\u001b[0;32m     <a href='vscode-notebook-cell:/c%3A/Users/gmflu/Desktop/aula%20tp%20de%20algoritmos/TPC3.ipynb#W0sZmlsZQ%3D%3D?line=61'>62</a>\u001b[0m \u001b[39mif\u001b[39;00m menu \u001b[39m==\u001b[39m \u001b[39m'\u001b[39m\u001b[39m1\u001b[39m\u001b[39m'\u001b[39m:\n\u001b[1;32m---> <a href='vscode-notebook-cell:/c%3A/Users/gmflu/Desktop/aula%20tp%20de%20algoritmos/TPC3.ipynb#W0sZmlsZQ%3D%3D?line=62'>63</a>\u001b[0m     jogador_adivinha()\n\u001b[0;32m     <a href='vscode-notebook-cell:/c%3A/Users/gmflu/Desktop/aula%20tp%20de%20algoritmos/TPC3.ipynb#W0sZmlsZQ%3D%3D?line=63'>64</a>\u001b[0m \u001b[39melif\u001b[39;00m menu \u001b[39m==\u001b[39m \u001b[39m'\u001b[39m\u001b[39m2\u001b[39m\u001b[39m'\u001b[39m:\n\u001b[0;32m     <a href='vscode-notebook-cell:/c%3A/Users/gmflu/Desktop/aula%20tp%20de%20algoritmos/TPC3.ipynb#W0sZmlsZQ%3D%3D?line=64'>65</a>\u001b[0m     computador_adivinha()\n",
      "\u001b[1;32mc:\\Users\\gmflu\\Desktop\\aula tp de algoritmos\\TPC3.ipynb Cell 1\u001b[0m line \u001b[0;36m1\n\u001b[0;32m     <a href='vscode-notebook-cell:/c%3A/Users/gmflu/Desktop/aula%20tp%20de%20algoritmos/TPC3.ipynb#W0sZmlsZQ%3D%3D?line=9'>10</a>\u001b[0m \u001b[39mprint\u001b[39m(\u001b[39m\"\u001b[39m\u001b[39m-=-\u001b[39m\u001b[39m\"\u001b[39m\u001b[39m*\u001b[39m\u001b[39m20\u001b[39m)\n\u001b[0;32m     <a href='vscode-notebook-cell:/c%3A/Users/gmflu/Desktop/aula%20tp%20de%20algoritmos/TPC3.ipynb#W0sZmlsZQ%3D%3D?line=10'>11</a>\u001b[0m \u001b[39mwhile\u001b[39;00m \u001b[39mTrue\u001b[39;00m:\n\u001b[1;32m---> <a href='vscode-notebook-cell:/c%3A/Users/gmflu/Desktop/aula%20tp%20de%20algoritmos/TPC3.ipynb#W0sZmlsZQ%3D%3D?line=11'>12</a>\u001b[0m     tentativa \u001b[39m=\u001b[39m \u001b[39mint\u001b[39;49m(\u001b[39minput\u001b[39;49m(\u001b[39m\"\u001b[39;49m\u001b[39mO número está entre 0 e 100. \u001b[39;49m\u001b[39m\"\u001b[39;49m))\n\u001b[0;32m     <a href='vscode-notebook-cell:/c%3A/Users/gmflu/Desktop/aula%20tp%20de%20algoritmos/TPC3.ipynb#W0sZmlsZQ%3D%3D?line=12'>13</a>\u001b[0m     tentativas \u001b[39m+\u001b[39m\u001b[39m=\u001b[39m \u001b[39m1\u001b[39m\n\u001b[0;32m     <a href='vscode-notebook-cell:/c%3A/Users/gmflu/Desktop/aula%20tp%20de%20algoritmos/TPC3.ipynb#W0sZmlsZQ%3D%3D?line=14'>15</a>\u001b[0m     \u001b[39mif\u001b[39;00m tentativa \u001b[39m<\u001b[39m numero_pensado:\n",
      "\u001b[1;31mValueError\u001b[0m: invalid literal for int() with base 10: '~60'"
     ]
    }
   ],
   "source": [
    "# TPC3 resolução\n",
    "\n",
    "\n",
    "import random\n",
    "import time \n",
    "def jogador_adivinha ():\n",
    "    numero_pensado = random.randint (0,100)\n",
    "    tentativas=0\n",
    "    print (\"Adivinha o número em que estou a pensar!\")\n",
    "    print(\"-=-\"*20)\n",
    "    while True:\n",
    "        tentativa = int(input(\"O número está entre 0 e 100. \"))\n",
    "        tentativas += 1\n",
    "        \n",
    "        if tentativa < numero_pensado:\n",
    "            print(\"-=-\"*20)\n",
    "            print(\"O número é maior.\")\n",
    "            \n",
    "        elif tentativa > numero_pensado:\n",
    "            print(\"-=-\"*20)\n",
    "            print(\"O número é menor.\")\n",
    "        else:\n",
    "            print(\"-=-\"*20)\n",
    "            print(f\"Acertaste em {tentativas} tentativas.\")\n",
    "            break\n",
    "\n",
    "def computador_adivinha():\n",
    "    numero_pensado = int(input(\"Pensa num número entre 0 e 100 para o computador adivinhar: \"))\n",
    "    print(\"-=-\"*20)\n",
    "    tentativas = 0\n",
    "    limite_inferior = 0\n",
    "    limite_superior = 100\n",
    "    \n",
    "    print(\"Aguarde enquanto o computador tenta adivinhar o número...\")\n",
    "    \n",
    "    time.sleep(1.5)\n",
    "\n",
    "    while True:\n",
    "        tentativa = random.randint(limite_inferior, limite_superior)\n",
    "        tentativas += 1\n",
    "        \n",
    "        print(\"-=-\"*20)\n",
    "        \n",
    "        print(f\"Será o {tentativa}?\")\n",
    "        \n",
    "        if tentativa < numero_pensado:\n",
    "            print(\"É maior!\")\n",
    "            time.sleep(1)\n",
    "            limite_inferior = tentativa + 1\n",
    "        elif tentativa > numero_pensado:\n",
    "            print(\"É menor!\")\n",
    "            time.sleep(1)\n",
    "            limite_superior = tentativa - 1\n",
    "        else:\n",
    "            print(\"-=-\"*20)\n",
    "            print(f\"O computador acertou em {tentativas} tentativas.\")\n",
    "            break\n",
    "    \n",
    "print(\"-=-\"*20)   \n",
    "menu = input(\"Escolhe ---> (Jogador adivinha: '1' / Computador adivinha: '2'): \")\n",
    "\n",
    "if menu == '1':\n",
    "    jogador_adivinha()\n",
    "elif menu == '2':\n",
    "    computador_adivinha()\n",
    "else:\n",
    "    print(\"Escolha '1' ou '2'.\")"
   ]
  }
 ],
 "metadata": {
  "kernelspec": {
   "display_name": "Python 3",
   "language": "python",
   "name": "python3"
  },
  "language_info": {
   "codemirror_mode": {
    "name": "ipython",
    "version": 3
   },
   "file_extension": ".py",
   "mimetype": "text/x-python",
   "name": "python",
   "nbconvert_exporter": "python",
   "pygments_lexer": "ipython3",
   "version": "3.11.5"
  },
  "orig_nbformat": 4
 },
 "nbformat": 4,
 "nbformat_minor": 2
}
